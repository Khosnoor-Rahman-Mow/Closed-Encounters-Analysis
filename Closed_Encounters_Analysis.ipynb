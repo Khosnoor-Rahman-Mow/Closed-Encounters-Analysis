{
  "nbformat": 4,
  "nbformat_minor": 0,
  "metadata": {
    "colab": {
      "provenance": []
    },
    "kernelspec": {
      "name": "python3",
      "display_name": "Python 3"
    },
    "language_info": {
      "name": "python"
    }
  },
  "cells": [
    {
      "cell_type": "code",
      "source": [
        "from google.colab import drive\n",
        "drive.mount(\"/content/drive\")"
      ],
      "metadata": {
        "colab": {
          "base_uri": "https://localhost:8080/"
        },
        "id": "r9QfGB7A9hXh",
        "outputId": "cdf71934-5b5b-4bcb-e539-09590e213613"
      },
      "execution_count": 1,
      "outputs": [
        {
          "output_type": "stream",
          "name": "stdout",
          "text": [
            "Drive already mounted at /content/drive; to attempt to forcibly remount, call drive.mount(\"/content/drive\", force_remount=True).\n"
          ]
        }
      ]
    },
    {
      "cell_type": "code",
      "execution_count": 2,
      "metadata": {
        "id": "ias3ztKBUBWG"
      },
      "outputs": [],
      "source": [
        "import pandas as pd"
      ]
    },
    {
      "cell_type": "code",
      "source": [
        "# Load the datasets\n",
        "db_data_path = '/content/drive/MyDrive/Assessment/DB_Data.csv'\n",
        "ehr_data_path = '/content/drive/MyDrive/Assessment/EHR_Data.csv'\n",
        "\n"
      ],
      "metadata": {
        "id": "Sdwp6hVmUmRP"
      },
      "execution_count": 3,
      "outputs": []
    },
    {
      "cell_type": "code",
      "source": [
        "db_data = pd.read_csv('/content/drive/MyDrive/Assessment/DB_Data.csv')\n",
        "ehr_data = pd.read_csv('/content/drive/MyDrive/Assessment/EHR_Data.csv')\n",
        "\n",
        "# Display the first few rows of each dataset to understand their structure\n",
        "db_data.head(), ehr_data.head()\n",
        "\n"
      ],
      "metadata": {
        "colab": {
          "base_uri": "https://localhost:8080/"
        },
        "id": "-RPfpGRHUta4",
        "outputId": "f624fe8d-6418-4379-e8cf-3a702dbabb0e"
      },
      "execution_count": 4,
      "outputs": [
        {
          "output_type": "execute_result",
          "data": {
            "text/plain": [
              "(  Patient Name       Provider Name from_date_range                  cpt_codes\n",
              " 0  Lucas Smith          Aiden King      2024-07-03  {97110,97112,97140,97010}\n",
              " 1  Lucas Smith  Charlotte Williams      2024-07-11  {97112,97010,97140,97110}\n",
              " 2  Lucas Smith  Charlotte Williams      2024-07-17  {97110,97140,97112,97010}\n",
              " 3  Lucas Smith          Julian Lee      2024-07-27  {97140,97110,97112,97010}\n",
              " 4  Lucas Smith          Aiden King      2024-08-07  {97010,97110,97112,97140},\n",
              "    Patient_Name       Provider_Name Date_of_Service CPT_Code\n",
              " 0   Ava Johnson          Liam Young       9/24/2024    97010\n",
              " 1   Ava Johnson          Liam Young       9/24/2024    97140\n",
              " 2   Sophia King    Sebastian Miller        7/3/2024    97140\n",
              " 3  Carter Brown  Charlotte Williams        9/9/2024    97014\n",
              " 4  Olivia Davis            Noah Lee        9/9/2024    97140)"
            ]
          },
          "metadata": {},
          "execution_count": 4
        }
      ]
    },
    {
      "cell_type": "code",
      "source": [
        "# Standardize column names for consistency\n",
        "db_data.rename(columns={\n",
        "    \"Patient Name\": \"Patient_Name\",\n",
        "    \"Provider Name\": \"Provider_Name\",\n",
        "    \"from_date_range\": \"Date_of_Service\",\n",
        "    \"cpt_codes\": \"CPT_Codes\"\n",
        "}, inplace=True)\n",
        "\n"
      ],
      "metadata": {
        "id": "vrqhEWc2_T4m"
      },
      "execution_count": 5,
      "outputs": []
    },
    {
      "cell_type": "code",
      "source": [
        "# Ensure date formats are consistent\n",
        "db_data[\"Date_of_Service\"] = pd.to_datetime(db_data[\"Date_of_Service\"])\n",
        "ehr_data[\"Date_of_Service\"] = pd.to_datetime(ehr_data[\"Date_of_Service\"], errors='coerce')"
      ],
      "metadata": {
        "id": "SYVKdCCE_W6U"
      },
      "execution_count": 6,
      "outputs": []
    },
    {
      "cell_type": "code",
      "source": [
        "# Create unique identifiers for each encounter\n",
        "db_data[\"Unique_ID\"] = db_data[\"Patient_Name\"] + \"|\" + db_data[\"Provider_Name\"] + \"|\" + db_data[\"Date_of_Service\"].astype(str)\n",
        "ehr_data[\"Unique_ID\"] = ehr_data[\"Patient_Name\"] + \"|\" + ehr_data[\"Provider_Name\"] + \"|\" + ehr_data[\"Date_of_Service\"].astype(str)"
      ],
      "metadata": {
        "id": "fszME_1M_e9o"
      },
      "execution_count": 7,
      "outputs": []
    },
    {
      "cell_type": "code",
      "source": [
        "# Aggregate EHR data to create a list of CPT codes per unique encounter\n",
        "ehr_grouped = ehr_data.groupby(\"Unique_ID\").agg({\n",
        "    \"CPT_Code\": lambda x: set(x),\n",
        "    \"Patient_Name\": \"first\",\n",
        "    \"Provider_Name\": \"first\",\n",
        "    \"Date_of_Service\": \"first\"\n",
        "}).reset_index()\n",
        "\n",
        "ehr_grouped.rename(columns={\"CPT_Code\": \"CPT_Codes\"}, inplace=True)"
      ],
      "metadata": {
        "id": "ueEPbQhB_oSU"
      },
      "execution_count": 8,
      "outputs": []
    },
    {
      "cell_type": "code",
      "source": [
        "# Display the preprocessed data for verification\n",
        "db_data.head(), ehr_grouped.head()"
      ],
      "metadata": {
        "colab": {
          "base_uri": "https://localhost:8080/"
        },
        "id": "NiRwtINd_xcw",
        "outputId": "2df7ea9d-3403-41e2-c720-51b288d01609"
      },
      "execution_count": 9,
      "outputs": [
        {
          "output_type": "execute_result",
          "data": {
            "text/plain": [
              "(  Patient_Name       Provider_Name Date_of_Service                  CPT_Codes  \\\n",
              " 0  Lucas Smith          Aiden King      2024-07-03  {97110,97112,97140,97010}   \n",
              " 1  Lucas Smith  Charlotte Williams      2024-07-11  {97112,97010,97140,97110}   \n",
              " 2  Lucas Smith  Charlotte Williams      2024-07-17  {97110,97140,97112,97010}   \n",
              " 3  Lucas Smith          Julian Lee      2024-07-27  {97140,97110,97112,97010}   \n",
              " 4  Lucas Smith          Aiden King      2024-08-07  {97010,97110,97112,97140}   \n",
              " \n",
              "                                    Unique_ID  \n",
              " 0          Lucas Smith|Aiden King|2024-07-03  \n",
              " 1  Lucas Smith|Charlotte Williams|2024-07-11  \n",
              " 2  Lucas Smith|Charlotte Williams|2024-07-17  \n",
              " 3          Lucas Smith|Julian Lee|2024-07-27  \n",
              " 4          Lucas Smith|Aiden King|2024-08-07  ,\n",
              "                            Unique_ID CPT_Codes Patient_Name Provider_Name  \\\n",
              " 0  Aiden Allen|Aiden King|2024-07-03   {97113}  Aiden Allen    Aiden King   \n",
              " 1  Aiden Allen|Aiden King|2024-07-10   {97113}  Aiden Allen    Aiden King   \n",
              " 2  Aiden Allen|Aiden King|2024-07-15   {97113}  Aiden Allen    Aiden King   \n",
              " 3  Aiden Allen|Aiden King|2024-07-24   {97113}  Aiden Allen    Aiden King   \n",
              " 4  Aiden Allen|Aiden King|2024-07-31   {97113}  Aiden Allen    Aiden King   \n",
              " \n",
              "   Date_of_Service  \n",
              " 0      2024-07-03  \n",
              " 1      2024-07-10  \n",
              " 2      2024-07-15  \n",
              " 3      2024-07-24  \n",
              " 4      2024-07-31  )"
            ]
          },
          "metadata": {},
          "execution_count": 9
        }
      ]
    },
    {
      "cell_type": "code",
      "source": [
        "# Identify missing encounters: EHR Unique IDs not in DB Unique IDs\n",
        "missing_ids = ehr_grouped[~ehr_grouped[\"Unique_ID\"].isin(db_data[\"Unique_ID\"])]"
      ],
      "metadata": {
        "id": "ilRmMyKX_9dd"
      },
      "execution_count": 10,
      "outputs": []
    },
    {
      "cell_type": "code",
      "source": [
        "# Extract details of missing encounters\n",
        "missing_encounters = missing_ids[[\"Patient_Name\", \"Provider_Name\", \"Date_of_Service\", \"CPT_Codes\"]]"
      ],
      "metadata": {
        "id": "d_qW-jzwAIyr"
      },
      "execution_count": 11,
      "outputs": []
    },
    {
      "cell_type": "code",
      "source": [
        "# Display the missing encounters\n",
        "missing_encounters.reset_index(drop=True, inplace=True)\n",
        "missing_encounters, missing_encounters.shape"
      ],
      "metadata": {
        "colab": {
          "base_uri": "https://localhost:8080/"
        },
        "id": "Q5_wgpFHAPA2",
        "outputId": "0d0856da-6a2c-4b34-e680-7bb0b5c94240"
      },
      "execution_count": 13,
      "outputs": [
        {
          "output_type": "execute_result",
          "data": {
            "text/plain": [
              "(    Patient_Name       Provider_Name Date_of_Service  \\\n",
              " 0    Aiden Allen          Aiden King      2024-08-28   \n",
              " 1    Aiden Allen          Aiden King      2024-09-04   \n",
              " 2    Aiden Allen          Aiden King      2024-09-10   \n",
              " 3    Aiden Allen          Aiden King      2024-09-25   \n",
              " 4    Aiden Allen          Liam Young      2024-09-25   \n",
              " ..           ...                 ...             ...   \n",
              " 277  Zoey Martin          Aiden King      2024-07-29   \n",
              " 278  Zoey Martin          Aiden King      2024-08-15   \n",
              " 279  Zoey Martin          Aiden King      2024-09-30   \n",
              " 280   Zoey Perez  Charlotte Williams      2024-08-14   \n",
              " 281   Zoey Perez  Charlotte Williams      2024-08-21   \n",
              " \n",
              "                               CPT_Codes  \n",
              " 0                        {97113, NORCM}  \n",
              " 1                        {97113, NORCM}  \n",
              " 2                 {97113, NORCM, 97010}  \n",
              " 3                        {97113, NORCM}  \n",
              " 4                 {97140, 97110, 97010}  \n",
              " ..                                  ...  \n",
              " 277  {sp90, 97010, 97112, 97140, NORCM}  \n",
              " 278  {sp90, 97010, 97112, 97140, NORCM}  \n",
              " 279  {sp90, 97010, 97112, 97140, NORCM}  \n",
              " 280        {97140, 97110, 97162, NORCM}  \n",
              " 281               {97140, 97110, NORCM}  \n",
              " \n",
              " [282 rows x 4 columns],\n",
              " (282, 4))"
            ]
          },
          "metadata": {},
          "execution_count": 13
        }
      ]
    }
  ]
}